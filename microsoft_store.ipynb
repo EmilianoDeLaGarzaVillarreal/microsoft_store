{
 "cells": [
  {
   "cell_type": "code",
   "execution_count": 1,
   "id": "e2c21c5b-57cb-4ff5-933c-49d874680d9b",
   "metadata": {},
   "outputs": [],
   "source": [
    "import numpy as np\n",
    "import pandas as pd\n",
    "import seaborn as sns\n",
    "import matplotlib.pyplot as plt\n",
    "\n",
    "%matplotlib inline"
   ]
  },
  {
   "cell_type": "code",
   "execution_count": 2,
   "id": "4e77f974-5438-4eb1-9d3c-23d0827b8ecc",
   "metadata": {},
   "outputs": [
    {
     "name": "stderr",
     "output_type": "stream",
     "text": [
      "C:\\Users\\emili\\AppData\\Local\\Temp\\ipykernel_3380\\371182638.py:1: ParserWarning: Falling back to the 'python' engine because the 'c' engine does not support skipfooter; you can avoid this warning by specifying engine='python'.\n",
      "  df = pd.read_csv(\"../csv/msft.csv\", skipfooter = 1)\n"
     ]
    }
   ],
   "source": [
    "df = pd.read_csv(\"../csv/msft.csv\", skipfooter = 1)"
   ]
  },
  {
   "cell_type": "code",
   "execution_count": 3,
   "id": "bcef69d5-5866-46bd-abb7-f3c9ccebbe1e",
   "metadata": {},
   "outputs": [
    {
     "data": {
      "text/html": [
       "<div>\n",
       "<style scoped>\n",
       "    .dataframe tbody tr th:only-of-type {\n",
       "        vertical-align: middle;\n",
       "    }\n",
       "\n",
       "    .dataframe tbody tr th {\n",
       "        vertical-align: top;\n",
       "    }\n",
       "\n",
       "    .dataframe thead th {\n",
       "        text-align: right;\n",
       "    }\n",
       "</style>\n",
       "<table border=\"1\" class=\"dataframe\">\n",
       "  <thead>\n",
       "    <tr style=\"text-align: right;\">\n",
       "      <th></th>\n",
       "      <th>Name</th>\n",
       "      <th>Rating</th>\n",
       "      <th>No of people Rated</th>\n",
       "      <th>Category</th>\n",
       "      <th>Date</th>\n",
       "      <th>Price</th>\n",
       "    </tr>\n",
       "  </thead>\n",
       "  <tbody>\n",
       "    <tr>\n",
       "      <th>0</th>\n",
       "      <td>Dynamic Reader</td>\n",
       "      <td>3.5</td>\n",
       "      <td>268</td>\n",
       "      <td>Books</td>\n",
       "      <td>07-01-2014</td>\n",
       "      <td>Free</td>\n",
       "    </tr>\n",
       "    <tr>\n",
       "      <th>1</th>\n",
       "      <td>Chemistry, Organic Chemistry and Biochemistry-...</td>\n",
       "      <td>3.0</td>\n",
       "      <td>627</td>\n",
       "      <td>Books</td>\n",
       "      <td>08-01-2014</td>\n",
       "      <td>Free</td>\n",
       "    </tr>\n",
       "    <tr>\n",
       "      <th>2</th>\n",
       "      <td>BookViewer</td>\n",
       "      <td>3.5</td>\n",
       "      <td>593</td>\n",
       "      <td>Books</td>\n",
       "      <td>29-02-2016</td>\n",
       "      <td>Free</td>\n",
       "    </tr>\n",
       "    <tr>\n",
       "      <th>3</th>\n",
       "      <td>Brick Instructions</td>\n",
       "      <td>3.5</td>\n",
       "      <td>684</td>\n",
       "      <td>Books</td>\n",
       "      <td>30-01-2018</td>\n",
       "      <td>Free</td>\n",
       "    </tr>\n",
       "    <tr>\n",
       "      <th>4</th>\n",
       "      <td>Introduction to Python Programming by GoLearni...</td>\n",
       "      <td>2.0</td>\n",
       "      <td>634</td>\n",
       "      <td>Books</td>\n",
       "      <td>30-01-2018</td>\n",
       "      <td>Free</td>\n",
       "    </tr>\n",
       "  </tbody>\n",
       "</table>\n",
       "</div>"
      ],
      "text/plain": [
       "                                                Name  Rating  \\\n",
       "0                                     Dynamic Reader     3.5   \n",
       "1  Chemistry, Organic Chemistry and Biochemistry-...     3.0   \n",
       "2                                         BookViewer     3.5   \n",
       "3                                 Brick Instructions     3.5   \n",
       "4  Introduction to Python Programming by GoLearni...     2.0   \n",
       "\n",
       "   No of people Rated Category        Date Price  \n",
       "0                 268    Books  07-01-2014  Free  \n",
       "1                 627    Books  08-01-2014  Free  \n",
       "2                 593    Books  29-02-2016  Free  \n",
       "3                 684    Books  30-01-2018  Free  \n",
       "4                 634    Books  30-01-2018  Free  "
      ]
     },
     "execution_count": 3,
     "metadata": {},
     "output_type": "execute_result"
    }
   ],
   "source": [
    "df.head()"
   ]
  },
  {
   "cell_type": "code",
   "execution_count": 4,
   "id": "a5edf5d2-1c90-4aa7-a922-47872d198689",
   "metadata": {},
   "outputs": [
    {
     "data": {
      "text/html": [
       "<div>\n",
       "<style scoped>\n",
       "    .dataframe tbody tr th:only-of-type {\n",
       "        vertical-align: middle;\n",
       "    }\n",
       "\n",
       "    .dataframe tbody tr th {\n",
       "        vertical-align: top;\n",
       "    }\n",
       "\n",
       "    .dataframe thead th {\n",
       "        text-align: right;\n",
       "    }\n",
       "</style>\n",
       "<table border=\"1\" class=\"dataframe\">\n",
       "  <thead>\n",
       "    <tr style=\"text-align: right;\">\n",
       "      <th></th>\n",
       "      <th>Name</th>\n",
       "      <th>Rating</th>\n",
       "      <th>No of people Rated</th>\n",
       "      <th>Category</th>\n",
       "      <th>Date</th>\n",
       "      <th>Price</th>\n",
       "    </tr>\n",
       "  </thead>\n",
       "  <tbody>\n",
       "    <tr>\n",
       "      <th>5316</th>\n",
       "      <td>Get Color</td>\n",
       "      <td>3.0</td>\n",
       "      <td>785</td>\n",
       "      <td>Developer Tools</td>\n",
       "      <td>08-08-2019</td>\n",
       "      <td>₹ 54.50</td>\n",
       "    </tr>\n",
       "    <tr>\n",
       "      <th>5317</th>\n",
       "      <td>JS King</td>\n",
       "      <td>1.0</td>\n",
       "      <td>720</td>\n",
       "      <td>Developer Tools</td>\n",
       "      <td>19-07-2018</td>\n",
       "      <td>₹ 269.00</td>\n",
       "    </tr>\n",
       "    <tr>\n",
       "      <th>5318</th>\n",
       "      <td>MQTTSniffer</td>\n",
       "      <td>2.5</td>\n",
       "      <td>500</td>\n",
       "      <td>Developer Tools</td>\n",
       "      <td>10-04-2017</td>\n",
       "      <td>₹ 64.00</td>\n",
       "    </tr>\n",
       "    <tr>\n",
       "      <th>5319</th>\n",
       "      <td>Dev Utils - JSON, CSV and XML</td>\n",
       "      <td>4.0</td>\n",
       "      <td>862</td>\n",
       "      <td>Developer Tools</td>\n",
       "      <td>18-11-2019</td>\n",
       "      <td>₹ 269.00</td>\n",
       "    </tr>\n",
       "    <tr>\n",
       "      <th>5320</th>\n",
       "      <td>Simply Text</td>\n",
       "      <td>4.0</td>\n",
       "      <td>386</td>\n",
       "      <td>Developer Tools</td>\n",
       "      <td>23-01-2014</td>\n",
       "      <td>₹ 219.00</td>\n",
       "    </tr>\n",
       "  </tbody>\n",
       "</table>\n",
       "</div>"
      ],
      "text/plain": [
       "                               Name  Rating  No of people Rated  \\\n",
       "5316                      Get Color     3.0                 785   \n",
       "5317                        JS King     1.0                 720   \n",
       "5318                    MQTTSniffer     2.5                 500   \n",
       "5319  Dev Utils - JSON, CSV and XML     4.0                 862   \n",
       "5320                    Simply Text     4.0                 386   \n",
       "\n",
       "             Category        Date     Price  \n",
       "5316  Developer Tools  08-08-2019   ₹ 54.50  \n",
       "5317  Developer Tools  19-07-2018  ₹ 269.00  \n",
       "5318  Developer Tools  10-04-2017   ₹ 64.00  \n",
       "5319  Developer Tools  18-11-2019  ₹ 269.00  \n",
       "5320  Developer Tools  23-01-2014  ₹ 219.00  "
      ]
     },
     "execution_count": 4,
     "metadata": {},
     "output_type": "execute_result"
    }
   ],
   "source": [
    "df.tail()"
   ]
  },
  {
   "cell_type": "code",
   "execution_count": 5,
   "id": "4a7752ec-4091-44bf-844e-bd0c860f8b40",
   "metadata": {},
   "outputs": [
    {
     "name": "stdout",
     "output_type": "stream",
     "text": [
      "<class 'pandas.core.frame.DataFrame'>\n",
      "RangeIndex: 5321 entries, 0 to 5320\n",
      "Data columns (total 6 columns):\n",
      " #   Column              Non-Null Count  Dtype  \n",
      "---  ------              --------------  -----  \n",
      " 0   Name                5321 non-null   object \n",
      " 1   Rating              5321 non-null   float64\n",
      " 2   No of people Rated  5321 non-null   int64  \n",
      " 3   Category            5321 non-null   object \n",
      " 4   Date                5321 non-null   object \n",
      " 5   Price               5321 non-null   object \n",
      "dtypes: float64(1), int64(1), object(4)\n",
      "memory usage: 249.5+ KB\n"
     ]
    }
   ],
   "source": [
    "df.info()"
   ]
  },
  {
   "cell_type": "code",
   "execution_count": 6,
   "id": "c7d56655-5aeb-4f65-99ed-782c648d9e3c",
   "metadata": {},
   "outputs": [
    {
     "data": {
      "text/html": [
       "<div>\n",
       "<style scoped>\n",
       "    .dataframe tbody tr th:only-of-type {\n",
       "        vertical-align: middle;\n",
       "    }\n",
       "\n",
       "    .dataframe tbody tr th {\n",
       "        vertical-align: top;\n",
       "    }\n",
       "\n",
       "    .dataframe thead th {\n",
       "        text-align: right;\n",
       "    }\n",
       "</style>\n",
       "<table border=\"1\" class=\"dataframe\">\n",
       "  <thead>\n",
       "    <tr style=\"text-align: right;\">\n",
       "      <th></th>\n",
       "      <th>Rating</th>\n",
       "      <th>No of people Rated</th>\n",
       "    </tr>\n",
       "  </thead>\n",
       "  <tbody>\n",
       "    <tr>\n",
       "      <th>count</th>\n",
       "      <td>5321.000000</td>\n",
       "      <td>5321.000000</td>\n",
       "    </tr>\n",
       "    <tr>\n",
       "      <th>mean</th>\n",
       "      <td>3.792708</td>\n",
       "      <td>551.798722</td>\n",
       "    </tr>\n",
       "    <tr>\n",
       "      <th>std</th>\n",
       "      <td>0.991681</td>\n",
       "      <td>259.787733</td>\n",
       "    </tr>\n",
       "    <tr>\n",
       "      <th>min</th>\n",
       "      <td>1.000000</td>\n",
       "      <td>100.000000</td>\n",
       "    </tr>\n",
       "    <tr>\n",
       "      <th>25%</th>\n",
       "      <td>3.500000</td>\n",
       "      <td>327.000000</td>\n",
       "    </tr>\n",
       "    <tr>\n",
       "      <th>50%</th>\n",
       "      <td>4.000000</td>\n",
       "      <td>548.000000</td>\n",
       "    </tr>\n",
       "    <tr>\n",
       "      <th>75%</th>\n",
       "      <td>4.500000</td>\n",
       "      <td>779.000000</td>\n",
       "    </tr>\n",
       "    <tr>\n",
       "      <th>max</th>\n",
       "      <td>5.000000</td>\n",
       "      <td>1000.000000</td>\n",
       "    </tr>\n",
       "  </tbody>\n",
       "</table>\n",
       "</div>"
      ],
      "text/plain": [
       "            Rating  No of people Rated\n",
       "count  5321.000000         5321.000000\n",
       "mean      3.792708          551.798722\n",
       "std       0.991681          259.787733\n",
       "min       1.000000          100.000000\n",
       "25%       3.500000          327.000000\n",
       "50%       4.000000          548.000000\n",
       "75%       4.500000          779.000000\n",
       "max       5.000000         1000.000000"
      ]
     },
     "execution_count": 6,
     "metadata": {},
     "output_type": "execute_result"
    }
   ],
   "source": [
    "df.describe()"
   ]
  },
  {
   "cell_type": "code",
   "execution_count": 7,
   "id": "740efc46-01c3-4c07-a967-1dd7277ada9e",
   "metadata": {},
   "outputs": [],
   "source": [
    "df.columns = (c.lower().replace(\" \", \"_\") for c in df.columns)"
   ]
  },
  {
   "cell_type": "code",
   "execution_count": 8,
   "id": "fd2aa9a1-8901-45b9-87c9-a92099c5a0e2",
   "metadata": {},
   "outputs": [
    {
     "data": {
      "text/plain": [
       "Index(['name', 'rating', 'no_of_people_rated', 'category', 'date', 'price'], dtype='object')"
      ]
     },
     "execution_count": 8,
     "metadata": {},
     "output_type": "execute_result"
    }
   ],
   "source": [
    "df.columns"
   ]
  },
  {
   "cell_type": "code",
   "execution_count": 9,
   "id": "5020afa8-c994-4c3e-8253-6abcad3f4a1e",
   "metadata": {},
   "outputs": [
    {
     "data": {
      "text/plain": [
       "array(['Books', 'Business', 'Developer Tools', 'Social',\n",
       "       'Food and Dining', 'Government and Politics', 'Health and Fitness',\n",
       "       'Kids and Family', 'Lifestyle', 'Multimedia Design', 'Music',\n",
       "       'Navigation and Maps', 'News and Weather'], dtype=object)"
      ]
     },
     "execution_count": 9,
     "metadata": {},
     "output_type": "execute_result"
    }
   ],
   "source": [
    "df[\"category\"].unique()"
   ]
  },
  {
   "cell_type": "code",
   "execution_count": 10,
   "id": "e982c777-91b0-421e-973e-848e3536f191",
   "metadata": {},
   "outputs": [],
   "source": [
    "df[\"is_free\"] = df[\"price\"] == \"Free\""
   ]
  },
  {
   "cell_type": "code",
   "execution_count": 11,
   "id": "fa9f26dc-a2fd-402d-88d7-13933bf5409d",
   "metadata": {},
   "outputs": [],
   "source": [
    "df[\"is_free\"] = df[\"is_free\"].map({True : 1, False : 0})"
   ]
  },
  {
   "cell_type": "code",
   "execution_count": 12,
   "id": "f061c469-caa9-46fa-8a43-e47c7b18a326",
   "metadata": {},
   "outputs": [],
   "source": [
    "df[\"price\"].mask(df[\"price\"] == \"Free\", \"0\", inplace = True) "
   ]
  },
  {
   "cell_type": "code",
   "execution_count": 13,
   "id": "0bbdbddc-d43d-47be-9543-365dacc49466",
   "metadata": {},
   "outputs": [],
   "source": [
    "df[\"price\"] = df[\"price\"].str.replace(\",\", \"\")"
   ]
  },
  {
   "cell_type": "code",
   "execution_count": 14,
   "id": "db92cc7c-2b45-49e8-9d03-9287c4be5443",
   "metadata": {},
   "outputs": [],
   "source": [
    "df[\"price\"] = df[\"price\"].str.replace(\"₹ \", \"\")"
   ]
  },
  {
   "cell_type": "code",
   "execution_count": 15,
   "id": "7e6108c6-c532-4167-bd95-1bea375555f6",
   "metadata": {},
   "outputs": [],
   "source": [
    "df[\"prices\"] = df[\"price\"].astype(float)"
   ]
  },
  {
   "cell_type": "code",
   "execution_count": 16,
   "id": "5225081d-b526-4420-8482-8ae5614f9182",
   "metadata": {},
   "outputs": [],
   "source": [
    "df[\"prices\"] = (df[\"prices\"] * 3 / 166)"
   ]
  },
  {
   "cell_type": "code",
   "execution_count": 17,
   "id": "28e7106b-2ff5-4a0c-9d38-196dbc2c9abf",
   "metadata": {},
   "outputs": [],
   "source": [
    "df[\"category\"] = df[\"category\"].map({'Books' : \"Books\", 'Business' : \"Business\", 'Developer Tools' : \"DevTools\", 'Social' : \"Social\",\n",
    "       'Food and Dining' : \"Food\", 'Government and Politics' : \"Gov&Pol\", 'Health and Fitness' : \"Health\" ,\n",
    "       'Kids and Family' : \"Family\", 'Lifestyle' : \"Lifestyle\", 'Multimedia Design' : \"Multimedia Design\", 'Music' : \"Music\",\n",
    "       'Navigation and Maps' : \"Maps\", 'News and Weather' : \"News\"})"
   ]
  },
  {
   "cell_type": "code",
   "execution_count": 18,
   "id": "d83ded55-a2ca-43a5-b62f-ae785adbba27",
   "metadata": {},
   "outputs": [
    {
     "data": {
      "text/plain": [
       "<AxesSubplot:xlabel='category', ylabel='Count'>"
      ]
     },
     "execution_count": 18,
     "metadata": {},
     "output_type": "execute_result"
    },
    {
     "data": {
      "image/png": "[encoded data removed]",
      "text/plain": [
       "<Figure size 1800x800 with 1 Axes>"
      ]
     },
     "metadata": {},
     "output_type": "display_data"
    }
   ],
   "source": [
    "fig, ax = plt.subplots(figsize = (18,8))\n",
    "\n",
    "sns.set_theme()\n",
    "\n",
    "sns.histplot(data = df[\"category\"], ax = ax)"
   ]
  },
  {
   "cell_type": "code",
   "execution_count": 19,
   "id": "ea1433db-b0c2-45a7-85be-d0fe12b4d49a",
   "metadata": {},
   "outputs": [
    {
     "data": {
      "text/plain": [
       "<AxesSubplot:xlabel='rating', ylabel='Count'>"
      ]
     },
     "execution_count": 19,
     "metadata": {},
     "output_type": "execute_result"
    },
    {
     "data": {
      "image/png": "[encoded data removed]",
      "text/plain": [
       "<Figure size 1800x800 with 1 Axes>"
      ]
     },
     "metadata": {},
     "output_type": "display_data"
    }
   ],
   "source": [
    "fig, ax = plt.subplots(figsize = (18,8))\n",
    "\n",
    "sns.histplot(data = df, ax = ax, x = df[\"rating\"], hue = df[\"category\"], palette = \"husl\", edgecolor = \"0.3\", multiple = \"stack\")"
   ]
  }
 ],
 "metadata": {
  "kernelspec": {
   "display_name": "Python 3 (ipykernel)",
   "language": "python",
   "name": "python3"
  },
  "language_info": {
   "codemirror_mode": {
    "name": "ipython",
    "version": 3
   },
   "file_extension": ".py",
   "mimetype": "text/x-python",
   "name": "python",
   "nbconvert_exporter": "python",
   "pygments_lexer": "ipython3",
   "version": "3.9.13"
  }
 },
 "nbformat": 4,
 "nbformat_minor": 5
}
